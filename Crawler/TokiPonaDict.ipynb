{
 "cells": [
  {
   "cell_type": "code",
   "execution_count": 1,
   "id": "taken-roman",
   "metadata": {},
   "outputs": [],
   "source": [
    "import pandas as pd\n",
    "import requests\n",
    "from bs4 import BeautifulSoup\n",
    "import json"
   ]
  },
  {
   "cell_type": "code",
   "execution_count": 2,
   "id": "dress-dependence",
   "metadata": {},
   "outputs": [],
   "source": [
    "r = requests.get('https://jprogr.github.io/TokiPonaDictionary/')\n",
    "soup = BeautifulSoup(r.text, 'html.parser')"
   ]
  },
  {
   "cell_type": "code",
   "execution_count": 3,
   "id": "amateur-philip",
   "metadata": {},
   "outputs": [],
   "source": [
    "elements = soup.find_all(\"div\", {\"class\": \"word\"})"
   ]
  },
  {
   "cell_type": "code",
   "execution_count": 4,
   "id": "killing-portfolio",
   "metadata": {},
   "outputs": [
    {
     "data": {
      "text/plain": [
       "<div class=\"word\"><div class=\"word-name\">a</div><ul class=\"word-meanings\"><li class=\"meaning\"><span class=\"speech-type\">interj</span><span>ah! ha! oh! ooh! aw! (emotion word)</span></li></ul></div>"
      ]
     },
     "execution_count": 4,
     "metadata": {},
     "output_type": "execute_result"
    }
   ],
   "source": [
    "elements[0]"
   ]
  },
  {
   "cell_type": "code",
   "execution_count": 5,
   "id": "built-violence",
   "metadata": {},
   "outputs": [],
   "source": [
    "words=[]\n",
    "translation=[]\n",
    "speechTypes=[]\n",
    "entries=[]"
   ]
  },
  {
   "cell_type": "code",
   "execution_count": 6,
   "id": "hollow-piano",
   "metadata": {},
   "outputs": [],
   "source": [
    "for element in elements:\n",
    "    words.append(element.find(\"div\", {\"class\": \"word-name\"}).text)"
   ]
  },
  {
   "cell_type": "code",
   "execution_count": 7,
   "id": "atomic-estate",
   "metadata": {},
   "outputs": [],
   "source": [
    "for element in elements:\n",
    "    trans = ''\n",
    "    for item in element.select('ul.word-meanings span:not(.speech-type)'):\n",
    "        trans = trans + item.text + ', '\n",
    "    trans = trans[:-2]\n",
    "    translation.append(trans)\n",
    "    #translation.append(element.select('ul.word-meanings span:not(.speech-type)'))"
   ]
  },
  {
   "cell_type": "code",
   "execution_count": 8,
   "id": "imported-answer",
   "metadata": {
    "scrolled": false
   },
   "outputs": [],
   "source": [
    "for element in elements:\n",
    "    sTypes = element.select('ul.word-meanings li span.speech-type')\n",
    "    sType = [sType.text for sType in sTypes]\n",
    "    speechTypes.append(sType)"
   ]
  },
  {
   "cell_type": "code",
   "execution_count": 9,
   "id": "cutting-sociology",
   "metadata": {},
   "outputs": [],
   "source": [
    "for element in elements:\n",
    "    ents = element.select('ul.word-meanings li span:not(.speech-type)')\n",
    "    ent = [ent.text for ent in ents]\n",
    "    entries.append(ent)"
   ]
  },
  {
   "cell_type": "code",
   "execution_count": 10,
   "id": "changed-anchor",
   "metadata": {},
   "outputs": [],
   "source": [
    "df = pd.DataFrame(list(zip(words, translation, speechTypes, entries)), \n",
    "                  columns=['words','translation','speechTypes', 'entries'])"
   ]
  },
  {
   "cell_type": "code",
   "execution_count": 11,
   "id": "developing-canada",
   "metadata": {},
   "outputs": [
    {
     "data": {
      "text/html": [
       "<div>\n",
       "<style scoped>\n",
       "    .dataframe tbody tr th:only-of-type {\n",
       "        vertical-align: middle;\n",
       "    }\n",
       "\n",
       "    .dataframe tbody tr th {\n",
       "        vertical-align: top;\n",
       "    }\n",
       "\n",
       "    .dataframe thead th {\n",
       "        text-align: right;\n",
       "    }\n",
       "</style>\n",
       "<table border=\"1\" class=\"dataframe\">\n",
       "  <thead>\n",
       "    <tr style=\"text-align: right;\">\n",
       "      <th></th>\n",
       "      <th>words</th>\n",
       "      <th>translation</th>\n",
       "      <th>speechTypes</th>\n",
       "      <th>entries</th>\n",
       "    </tr>\n",
       "  </thead>\n",
       "  <tbody>\n",
       "    <tr>\n",
       "      <th>0</th>\n",
       "      <td>a</td>\n",
       "      <td>ah! ha! oh! ooh! aw! (emotion word)</td>\n",
       "      <td>[interj]</td>\n",
       "      <td>[ah! ha! oh! ooh! aw! (emotion word)]</td>\n",
       "    </tr>\n",
       "    <tr>\n",
       "      <th>1</th>\n",
       "      <td>akesi</td>\n",
       "      <td>non-cute animal, reptile, amphibian, dinosaur,...</td>\n",
       "      <td>[n]</td>\n",
       "      <td>[non-cute animal, reptile, amphibian, dinosaur...</td>\n",
       "    </tr>\n",
       "    <tr>\n",
       "      <th>2</th>\n",
       "      <td>ala</td>\n",
       "      <td>no, not, none, un-, nothingness, negation, zer...</td>\n",
       "      <td>[mod, n, interj]</td>\n",
       "      <td>[no, not, none, un-, nothingness, negation, ze...</td>\n",
       "    </tr>\n",
       "    <tr>\n",
       "      <th>3</th>\n",
       "      <td>alasa</td>\n",
       "      <td>hunting-, -hunting, hunting, hunting, to hunt,...</td>\n",
       "      <td>[mod, n, vt]</td>\n",
       "      <td>[hunting-, -hunting, hunting, hunting, to hunt...</td>\n",
       "    </tr>\n",
       "    <tr>\n",
       "      <th>4</th>\n",
       "      <td>ale (ali)</td>\n",
       "      <td>everything, anything, life, the universe, all,...</td>\n",
       "      <td>[n, mod]</td>\n",
       "      <td>[everything, anything, life, the universe, all...</td>\n",
       "    </tr>\n",
       "    <tr>\n",
       "      <th>...</th>\n",
       "      <td>...</td>\n",
       "      <td>...</td>\n",
       "      <td>...</td>\n",
       "      <td>...</td>\n",
       "    </tr>\n",
       "    <tr>\n",
       "      <th>120</th>\n",
       "      <td>wan</td>\n",
       "      <td>one, a, unit, element, particle, part, piece, ...</td>\n",
       "      <td>[mod, n, vt]</td>\n",
       "      <td>[one, a, unit, element, particle, part, piece,...</td>\n",
       "    </tr>\n",
       "    <tr>\n",
       "      <th>121</th>\n",
       "      <td>waso</td>\n",
       "      <td>bird, winged animal</td>\n",
       "      <td>[n]</td>\n",
       "      <td>[bird, winged animal]</td>\n",
       "    </tr>\n",
       "    <tr>\n",
       "      <th>122</th>\n",
       "      <td>wawa</td>\n",
       "      <td>energy, strength, power, energetic, strong, fi...</td>\n",
       "      <td>[n, mod, vt]</td>\n",
       "      <td>[energy, strength, power, energetic, strong, f...</td>\n",
       "    </tr>\n",
       "    <tr>\n",
       "      <th>123</th>\n",
       "      <td>weka</td>\n",
       "      <td>away, absent, missing, absence, throw away, re...</td>\n",
       "      <td>[mod, n, vt]</td>\n",
       "      <td>[away, absent, missing, absence, throw away, r...</td>\n",
       "    </tr>\n",
       "    <tr>\n",
       "      <th>124</th>\n",
       "      <td>wile</td>\n",
       "      <td>to want, need, wish, have to, must, will, shou...</td>\n",
       "      <td>[vt, n, mod]</td>\n",
       "      <td>[to want, need, wish, have to, must, will, sho...</td>\n",
       "    </tr>\n",
       "  </tbody>\n",
       "</table>\n",
       "<p>125 rows × 4 columns</p>\n",
       "</div>"
      ],
      "text/plain": [
       "         words                                        translation  \\\n",
       "0            a                ah! ha! oh! ooh! aw! (emotion word)   \n",
       "1        akesi  non-cute animal, reptile, amphibian, dinosaur,...   \n",
       "2          ala  no, not, none, un-, nothingness, negation, zer...   \n",
       "3        alasa  hunting-, -hunting, hunting, hunting, to hunt,...   \n",
       "4    ale (ali)  everything, anything, life, the universe, all,...   \n",
       "..         ...                                                ...   \n",
       "120        wan  one, a, unit, element, particle, part, piece, ...   \n",
       "121       waso                                bird, winged animal   \n",
       "122       wawa  energy, strength, power, energetic, strong, fi...   \n",
       "123       weka  away, absent, missing, absence, throw away, re...   \n",
       "124       wile  to want, need, wish, have to, must, will, shou...   \n",
       "\n",
       "          speechTypes                                            entries  \n",
       "0            [interj]              [ah! ha! oh! ooh! aw! (emotion word)]  \n",
       "1                 [n]  [non-cute animal, reptile, amphibian, dinosaur...  \n",
       "2    [mod, n, interj]  [no, not, none, un-, nothingness, negation, ze...  \n",
       "3        [mod, n, vt]  [hunting-, -hunting, hunting, hunting, to hunt...  \n",
       "4            [n, mod]  [everything, anything, life, the universe, all...  \n",
       "..                ...                                                ...  \n",
       "120      [mod, n, vt]  [one, a, unit, element, particle, part, piece,...  \n",
       "121               [n]                              [bird, winged animal]  \n",
       "122      [n, mod, vt]  [energy, strength, power, energetic, strong, f...  \n",
       "123      [mod, n, vt]  [away, absent, missing, absence, throw away, r...  \n",
       "124      [vt, n, mod]  [to want, need, wish, have to, must, will, sho...  \n",
       "\n",
       "[125 rows x 4 columns]"
      ]
     },
     "execution_count": 11,
     "metadata": {},
     "output_type": "execute_result"
    }
   ],
   "source": [
    "df"
   ]
  },
  {
   "cell_type": "code",
   "execution_count": 12,
   "id": "colonial-generator",
   "metadata": {},
   "outputs": [],
   "source": [
    "df.to_json('db.json', orient=\"table\", index=False)"
   ]
  },
  {
   "cell_type": "code",
   "execution_count": null,
   "id": "apparent-danger",
   "metadata": {},
   "outputs": [],
   "source": []
  }
 ],
 "metadata": {
  "kernelspec": {
   "display_name": "Python 3",
   "language": "python",
   "name": "python3"
  },
  "language_info": {
   "codemirror_mode": {
    "name": "ipython",
    "version": 3
   },
   "file_extension": ".py",
   "mimetype": "text/x-python",
   "name": "python",
   "nbconvert_exporter": "python",
   "pygments_lexer": "ipython3",
   "version": "3.9.2"
  }
 },
 "nbformat": 4,
 "nbformat_minor": 5
}
